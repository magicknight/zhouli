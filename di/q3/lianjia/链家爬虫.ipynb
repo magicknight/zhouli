{
 "cells": [
  {
   "cell_type": "code",
   "execution_count": 1,
   "metadata": {
    "collapsed": false
   },
   "outputs": [],
   "source": [
    "# -*- coding: utf-8 -*-\n",
    "\n",
    "\n",
    "import re\n",
    "from bs4 import BeautifulSoup\n",
    "from concurrent import futures\n",
    "import sys\n",
    "import time\n",
    "import pandas as pd\n",
    "import urllib\n",
    "import random\n",
    "import json"
   ]
  },
  {
   "cell_type": "code",
   "execution_count": 2,
   "metadata": {
    "collapsed": true
   },
   "outputs": [],
   "source": [
    "# 多线程数量设置\n",
    "NUM_THREADS = 8\n",
    "\n",
    "city_dict = {\"成都\": \"cd\", \"北京\": \"bj\", \"上海\": \"sh\", \"广州\": \"gz\", \"深圳\": \"sz\", \"南京\": \"nj\", \"合肥\": \"hf\", \"杭州\": \"hz\", }\n",
    "CITY = city_dict[\"北京\"]\n",
    "\n",
    "# 是否打印 HTTP error\n",
    "PRINT = False"
   ]
  },
  {
   "cell_type": "code",
   "execution_count": 3,
   "metadata": {
    "collapsed": true
   },
   "outputs": [],
   "source": [
    "hds=[{'User-Agent':'Mozilla/5.0 (Windows; U; Windows NT 6.1; en-US; rv:1.9.1.6) Gecko/20091201 Firefox/3.5.6'},\\\n",
    "    {'User-Agent':'Mozilla/5.0 (Windows NT 6.2) AppleWebKit/535.11 (KHTML, like Gecko) Chrome/17.0.963.12 Safari/535.11'},\\\n",
    "    {'User-Agent':'Mozilla/5.0 (compatible; MSIE 10.0; Windows NT 6.2; Trident/6.0)'},\\\n",
    "    {'User-Agent':'Mozilla/5.0 (X11; Ubuntu; Linux x86_64; rv:34.0) Gecko/20100101 Firefox/34.0'},\\\n",
    "    {'User-Agent':'Mozilla/5.0 (X11; Linux x86_64) AppleWebKit/537.36 (KHTML, like Gecko) Ubuntu Chromium/44.0.2403.89 Chrome/44.0.2403.89 Safari/537.36'},\\\n",
    "    {'User-Agent':'Mozilla/5.0 (Macintosh; U; Intel Mac OS X 10_6_8; en-us) AppleWebKit/534.50 (KHTML, like Gecko) Version/5.1 Safari/534.50'},\\\n",
    "    {'User-Agent':'Mozilla/5.0 (Windows; U; Windows NT 6.1; en-us) AppleWebKit/534.50 (KHTML, like Gecko) Version/5.1 Safari/534.50'},\\\n",
    "    {'User-Agent':'Mozilla/5.0 (compatible; MSIE 9.0; Windows NT 6.1; Trident/5.0'},\\\n",
    "    {'User-Agent':'Mozilla/5.0 (Macintosh; Intel Mac OS X 10.6; rv:2.0.1) Gecko/20100101 Firefox/4.0.1'},\\\n",
    "    {'User-Agent':'Mozilla/5.0 (Windows NT 6.1; rv:2.0.1) Gecko/20100101 Firefox/4.0.1'},\\\n",
    "    {'User-Agent':'Mozilla/5.0 (Macintosh; Intel Mac OS X 10_7_0) AppleWebKit/535.11 (KHTML, like Gecko) Chrome/17.0.963.56 Safari/535.11'},\\\n",
    "    {'User-Agent':'Opera/9.80 (Macintosh; Intel Mac OS X 10.6.8; U; en) Presto/2.8.131 Version/11.11'},\\\n",
    "    {'User-Agent':'Opera/9.80 (Windows NT 6.1; U; en) Presto/2.8.131 Version/11.11'}]"
   ]
  },
  {
   "cell_type": "markdown",
   "metadata": {},
   "source": [
    "# 代理设置"
   ]
  },
  {
   "cell_type": "code",
   "execution_count": 4,
   "metadata": {
    "collapsed": false
   },
   "outputs": [],
   "source": [
    "proxy_support = urllib.request.ProxyHandler({'sock5': 'localhost:1080'})\n",
    "opener = urllib.request.build_opener(proxy_support)\n",
    "urllib.request.install_opener(opener)"
   ]
  },
  {
   "cell_type": "markdown",
   "metadata": {},
   "source": [
    "# 函数定义"
   ]
  },
  {
   "cell_type": "code",
   "execution_count": 5,
   "metadata": {
    "collapsed": true
   },
   "outputs": [],
   "source": [
    "def get_bs_obj_from_url(http_url):\n",
    "    done = False\n",
    "    exception_time = 0\n",
    "    while not done:\n",
    "        try:\n",
    "            if PRINT:\n",
    "                print(\"Getting {}\".format(http_url))\n",
    "            req = urllib.request.Request(http_url, headers=hds[random.randint(0,len(hds)-1)])\n",
    "            html = urllib.request.urlopen(req)\n",
    "            bs_obj = BeautifulSoup(html.read(), \"lxml\")\n",
    "            done = True\n",
    "        except Exception as e:\n",
    "            if PRINT:\n",
    "                print(e)\n",
    "            exception_time += 1\n",
    "            time.sleep(2)\n",
    "            if exception_time > 10:\n",
    "                return None\n",
    "    return bs_obj"
   ]
  },
  {
   "cell_type": "code",
   "execution_count": 6,
   "metadata": {
    "collapsed": true
   },
   "outputs": [],
   "source": [
    "def get_district_from_city(city):\n",
    "    print(\"********** Processing City: {} **********\".format(city))\n",
    "    city_url = \"http://{}.lianjia.com\".format(city)\n",
    "    http_url = city_url + \"/xiaoqu\"\n",
    "    bs_obj = get_bs_obj_from_url(http_url)\n",
    "    \n",
    "    parent_div = bs_obj.find(\"div\", {\"data-role\": \"ershoufang\"})\n",
    "    a_list = parent_div.find_all(\"a\")\n",
    "    \n",
    "    district_list = [a.attrs[\"href\"].replace(\"/xiaoqu/\", \"\")[:-1] for a in a_list]\n",
    "    \n",
    "    print(\"########## Got {} districts ##########\".format(len(district_list)))\n",
    "    \n",
    "    return district_list"
   ]
  },
  {
   "cell_type": "code",
   "execution_count": 7,
   "metadata": {
    "collapsed": false
   },
   "outputs": [],
   "source": [
    "def get_xiaoqu_from_district(city, district):\n",
    "    http_url = \"http://{}.lianjia.com/xiaoqu/{}\".format(city, district)\n",
    "    bs_obj = get_bs_obj_from_url(http_url)\n",
    "    \n",
    "    total_pages = int(json.loads(bs_obj.find(\"div\", {\"class\": \"page-box house-lst-page-box\"}).attrs[\"page-data\"])[\"totalPage\"])\n",
    "    total_xiaoqu_num = int(bs_obj.find(\"h2\", {\"class\": \"total fl\"}).find(\"span\").get_text())\n",
    "    \n",
    "    xiaoqu_list = []\n",
    "    \n",
    "    with futures.ThreadPoolExecutor(max_workers=NUM_THREADS) as executor:\n",
    "        future_list = []\n",
    "        for page_no in range(1, total_pages + 1):\n",
    "            future_list.append(executor.submit(get_xiaoqu_in_page, city, district, page_no))\n",
    "        fail_list = []\n",
    "        for future in futures.as_completed(future_list):\n",
    "            page_no, xiaoqu_list_partial = future.result()\n",
    "            if xiaoqu_list_partial is None or len(xiaoqu_list_partial) == 0:\n",
    "                fail_list.append(page_no)\n",
    "            else:\n",
    "                xiaoqu_list += xiaoqu_list_partial\n",
    "        for page_no in fail_list:\n",
    "            page_no, xiaoqu_list_partial = get_xiaoqu_in_page(city, district, page_no)\n",
    "            if xiaoqu_list_partial is not None and len(xiaoqu_list_partial) > 0:\n",
    "                xiaoqu_list += xiaoqu_list_partial\n",
    "    return xiaoqu_list"
   ]
  },
  {
   "cell_type": "code",
   "execution_count": 8,
   "metadata": {
    "collapsed": false
   },
   "outputs": [],
   "source": [
    "def get_xiaoqu_in_page(city, district, page_no):\n",
    "    http_url = \"http://{}.lianjia.com/xiaoqu/{}/pg{}\".format(city, district, page_no)\n",
    "    bs_obj = get_bs_obj_from_url(http_url)\n",
    "    \n",
    "    if bs_obj is None:\n",
    "        return None\n",
    "    \n",
    "    parent_list = bs_obj.find_all(\"li\", {\"class\": \"clear xiaoquListItem\"})\n",
    "    \n",
    "    xiaoqu_list = []\n",
    "    \n",
    "    if not (len(parent_list) == 0):\n",
    "        for li in parent_list:\n",
    "            xiaoqu_url = li.find(\"div\", {\"class\": \"title\"}).find(\"a\").attrs[\"href\"]\n",
    "#             xiaoqu_id = re.sub(r\"http://[a-z]*.lianjia.com/xiaoqu/\", \"\", xiaoqu_url)\n",
    "            xiaoqu_id = \"\".join(list(filter(str.isdigit, xiaoqu_url)))\n",
    "            xiaoqu_list.append(xiaoqu_id)\n",
    "    return page_no, xiaoqu_list"
   ]
  },
  {
   "cell_type": "code",
   "execution_count": 9,
   "metadata": {
    "collapsed": false
   },
   "outputs": [],
   "source": [
    "def get_xiaoqu_of_city(city):\n",
    "    district_list = get_district_from_city(city)\n",
    "    xiaoqu_list = []\n",
    "    for district in district_list:\n",
    "        xiaoqu_of_district = get_xiaoqu_from_district(city, district)\n",
    "        xiaoqu_list += xiaoqu_of_district\n",
    "        print(\"****** 当前区域小区数: {}, 总小区数: {} ******\".format(len(xiaoqu_of_district), len(xiaoqu_list)))\n",
    "    return xiaoqu_list"
   ]
  },
  {
   "cell_type": "code",
   "execution_count": 10,
   "metadata": {
    "collapsed": true
   },
   "outputs": [],
   "source": [
    "def get_xiaoqu_info(city, xiaoqu_id):\n",
    "    http_url = \"http://{}.lianjia.com/xiaoqu/{}\".format(city, xiaoqu_id)\n",
    "    bs_obj = get_bs_obj_from_url(http_url)\n",
    "    \n",
    "    df = pd.DataFrame()\n",
    "    \n",
    "    if bs_obj is not None:\n",
    "        try:\n",
    "            location_list = bs_obj.find(\"div\", {\"class\": \"fl l-txt\"}).find_all(\"a\")\n",
    "            info_city = location_list[1].get_text().replace(\"小区\", \"\")\n",
    "            info_district = location_list[2].get_text().replace(\"小区\", \"\")\n",
    "            info_area = location_list[3].get_text().replace(\"小区\", \"\")\n",
    "            info_name = location_list[4].get_text()\n",
    "\n",
    "            if bs_obj.find(\"span\", {\"class\": \"xiaoquUnitPrice\"}) is not None:\n",
    "                info_price = bs_obj.find(\"span\", {\"class\": \"xiaoquUnitPrice\"}).get_text()\n",
    "            else:\n",
    "                info_price = \"暂无报价\"\n",
    "\n",
    "            info_address = bs_obj.find(\"div\", {\"class\": \"detailDesc\"}).get_text()\n",
    "\n",
    "            info_list = bs_obj.find_all(\"span\", {\"class\": \"xiaoquInfoContent\"})\n",
    "            info_year = info_list[0].get_text().replace(\"年建成\", \"\")\n",
    "            info_type = info_list[1].get_text()\n",
    "            info_property_fee = info_list[2].get_text()\n",
    "            info_property_company = info_list[3].get_text()\n",
    "            info_developer_company = info_list[4].get_text()\n",
    "            info_building_num = info_list[5].get_text().replace(\"栋\", \"\")\n",
    "            info_house_num = info_list[6].get_text().replace(\"户\", \"\")\n",
    "\n",
    "            df = pd.DataFrame(data=[[xiaoqu_id, http_url, info_name, info_city,\n",
    "                                     info_district, info_area, info_price, info_year,\n",
    "                                     info_building_num, info_house_num, info_developer_company, info_property_fee,\n",
    "                                     info_property_company, info_type, info_address]],\n",
    "                              columns=[\"ID\", \"URL\", \"小区名称\", \"城市\",\n",
    "                                       \"区域\", \"片区\", \"参考均价\", \"建筑年代\",\n",
    "                                       \"总栋数\", \"总户数\", \"开发商\",\"物业费\",\n",
    "                                       \"物业公司\", \"建筑类型\", \"地址\"])\n",
    "        except Exception as e:\n",
    "            print(e)\n",
    "\n",
    "    return xiaoqu_id, df"
   ]
  },
  {
   "cell_type": "code",
   "execution_count": 11,
   "metadata": {
    "collapsed": false
   },
   "outputs": [],
   "source": [
    "def get_xiaoqu_info_from_xiaoqu_list(city, xiaoqu_list):\n",
    "    df_xiaoqu_info = pd.DataFrame()\n",
    "    count = 0\n",
    "    pct = 0\n",
    "    \n",
    "    with futures.ThreadPoolExecutor(max_workers=NUM_THREADS) as executor:\n",
    "        future_list = []\n",
    "        for xiaoqu in xiaoqu_list:\n",
    "            future_list.append(executor.submit(get_xiaoqu_info, city, xiaoqu))\n",
    "        fail_list = []\n",
    "        print(\" \")\n",
    "        for future in futures.as_completed(future_list):\n",
    "            xiaoqu, df_info_partial = future.result()\n",
    "            if len(df_info_partial) == 0:\n",
    "                fail_list.append(xiaoqu)\n",
    "            else:\n",
    "                df_xiaoqu_info = df_xiaoqu_info.append(df_info_partial)\n",
    "                count += 1\n",
    "                sys.stdout.write(\"\\rProgress: {}/{}\".format(count, len(xiaoqu_list)))\n",
    "        for page_no in fail_list:\n",
    "            xiaoqu, df_info_partial = get_xiaoqu_info(city, xiaoqu)\n",
    "            if len(df_info_partial) > 0:\n",
    "                df_xiaoqu_info = df_xiaoqu_info.append(df_info_partial)\n",
    "                count += 1\n",
    "        sys.stdout.write(\"\\rProgress: {}/{}\".format(count, len(xiaoqu_list)))\n",
    "\n",
    "    return df_xiaoqu_info"
   ]
  },
  {
   "cell_type": "code",
   "execution_count": 12,
   "metadata": {
    "collapsed": false
   },
   "outputs": [],
   "source": [
    "def get_xiaoqu_transactions_in_page(city, xiaoqu_id, page_no):\n",
    "    http_url = \"http://{}.lianjia.com/chengjiao/pg{}c{}/\".format(city, page_no, xiaoqu_id)\n",
    "    bs_obj = get_bs_obj_from_url(http_url)\n",
    "    \n",
    "    df = pd.DataFrame()\n",
    "    \n",
    "    if bs_obj is not None:\n",
    "        try:\n",
    "            div_list = bs_obj.find_all(\"div\", {\"class\": \"info\"})\n",
    "            \n",
    "            for div in div_list:\n",
    "                div_title = div.find(\"div\", {\"class\": \"title\"}).find(\"a\")\n",
    "                url = div_title.attrs[\"href\"]\n",
    "                title_strs = div_title.get_text().split(\" \")\n",
    "                xiaoqu_name = title_strs[0]\n",
    "                house_type = title_strs[1]\n",
    "                built_area = title_strs[2].replace(\"平米\", \"\")\n",
    "                \n",
    "                house_info_strs = div.find(\"div\", {\"class\": \"houseInfo\"}).get_text().replace(\" \", \"\").split(\"|\")\n",
    "                direction = house_info_strs[0]\n",
    "                decoration = house_info_strs[1].replace(\"&nbsp;\", \"\")\n",
    "                if len(house_info_strs) == 3:\n",
    "                    elevator = house_info_strs[2].replace(\"电梯\", \"\")\n",
    "                else:\n",
    "                    elevator = \"未知\"\n",
    "                \n",
    "                deal_date = div.find(\"div\", {\"class\": \"dealDate\"}).get_text()\n",
    "                deal_price = div.find(\"div\", {\"class\": \"totalPrice\"}).find(\"span\", {\"class\": \"number\"}).get_text()\n",
    "                \n",
    "                position_info_strs = div.find(\"div\", {\"class\": \"positionInfo\"}).get_text().split(\" \")\n",
    "                floor = position_info_strs[0]\n",
    "                build_type = position_info_strs[1]\n",
    "                \n",
    "                unit_price = div.find(\"div\", {\"class\": \"unitPrice\"}).find(\"span\", {\"class\": \"number\"}).get_text()\n",
    "                \n",
    "                span_deal_cycle = div.find(\"span\", {\"class\": \"dealCycleTxt\"}).find_all(\"span\")\n",
    "                if len(span_deal_cycle) == 2:\n",
    "                    list_price = \"\".join(list(filter(lambda x: str.isdigit(x) or (x == \".\"), span_deal_cycle[0].get_text())))\n",
    "                    deal_cycle = \"\".join(list(filter(str.isdigit, span_deal_cycle[1].get_text())))\n",
    "                else:\n",
    "                    deal_cycle = \"\".join(list(filter(str.isdigit, span_deal_cycle[0].get_text())))\n",
    "                    list_price = \"无\"\n",
    "                    \n",
    "                \n",
    "                temp_df = pd.DataFrame(data=[[xiaoqu_id, url, xiaoqu_name, house_type, \n",
    "                                              built_area, deal_price, list_price, unit_price, \n",
    "                                              deal_cycle, deal_date, direction, decoration, \n",
    "                                              elevator, floor, build_type]], \n",
    "                                       columns=[\"小区ID\", \"URL\", \"小区名称\", \"户型\", \n",
    "                                                \"建筑面积\", \"成交价\", \"挂牌价\", \"单价\",\n",
    "                                                \"成交周期\", \"成交日期\", \"朝向\", \"装修\",\n",
    "                                                \"电梯\", \"楼层\", \"建筑类型\",])\n",
    "                df = df.append(temp_df)\n",
    "            \n",
    "        except Exception as e:\n",
    "            print(xiaoqu_id, page_no, e)\n",
    "    \n",
    "    return df\n",
    "    \n",
    "def get_xiaoqu_transactions(city, xiaoqu_id):    \n",
    "    df_xiaoqu_transctions = pd.DataFrame()\n",
    "    \n",
    "    for i in range(3):\n",
    "        try:\n",
    "            http_url = \"http://{}.lianjia.com/chengjiao/c{}/\".format(city, xiaoqu_id)\n",
    "            bs_obj = get_bs_obj_from_url(http_url)\n",
    "            total_transaction_num = int(bs_obj.find(\"div\", {\"class\": \"total fl\"}).find(\"span\").get_text())\n",
    "            if total_transaction_num == 0:\n",
    "                return df_xiaoqu_transctions\n",
    "            total_pages = int(json.loads(bs_obj.find(\"div\", {\"class\": \"page-box house-lst-page-box\"}).attrs[\"page-data\"])[\"totalPage\"])\n",
    "            \n",
    "            break\n",
    "        except Exception as e:\n",
    "            print(xiaoqu_id, e)\n",
    "            if i == 4:\n",
    "                return df_xiaoqu_transctions\n",
    "        \n",
    "    fail_list = []\n",
    "    for page_no in range(1, total_pages+1):\n",
    "        xiaoqu_transactions_partial = get_xiaoqu_transactions_in_page(city, xiaoqu_id, page_no)\n",
    "        if xiaoqu_transactions_partial is None or len(xiaoqu_transactions_partial) == 0:\n",
    "            fail_list.append(page_no)\n",
    "        else:\n",
    "            df_xiaoqu_transctions = df_xiaoqu_transctions.append(xiaoqu_transactions_partial) \n",
    "    for page_no in fail_list:\n",
    "        xiaoqu_transactions_partial = get_xiaoqu_transactions_in_page(city, xiaoqu_id, page_no)\n",
    "        if xiaoqu_transactions_partial is not None and len(xiaoqu_transactions_partial) > 0:\n",
    "            df_xiaoqu_transctions = df_xiaoqu_transctions.append(xiaoqu_transactions_partial)        \n",
    "    return df_xiaoqu_transctions"
   ]
  },
  {
   "cell_type": "code",
   "execution_count": 13,
   "metadata": {
    "collapsed": true
   },
   "outputs": [],
   "source": [
    "def get_transactions_from_xiaoqu_list(city, xiaoqu_list):\n",
    "    df = pd.DataFrame()\n",
    "    print(\" \")\n",
    "    \n",
    "    with futures.ThreadPoolExecutor(max_workers=NUM_THREADS) as executor:\n",
    "        future_list = []\n",
    "        for xiaoqu in xiaoqu_list:\n",
    "            future_list.append(executor.submit(get_xiaoqu_transactions, city, xiaoqu))\n",
    "        fail_list = []\n",
    "        count = 0\n",
    "        for future in futures.as_completed(future_list):\n",
    "            if future.exception() is not None:\n",
    "                print(future.exception())\n",
    "            else:\n",
    "                xiaoqu_transactions_partial = future.result()\n",
    "                df = df.append(xiaoqu_transactions_partial)    \n",
    "            count += 1\n",
    "            sys.stdout.write(\"\\rProgress: {}/{}\".format(count, len(xiaoqu_list)))\n",
    "    return df"
   ]
  },
  {
   "cell_type": "markdown",
   "metadata": {},
   "source": [
    "# 爬取城市的小区ID列表"
   ]
  },
  {
   "cell_type": "code",
   "execution_count": null,
   "metadata": {
    "collapsed": false,
    "scrolled": true
   },
   "outputs": [],
   "source": [
    "xiaoqu_list = get_xiaoqu_of_city(CITY)"
   ]
  },
  {
   "cell_type": "code",
   "execution_count": null,
   "metadata": {
    "collapsed": false
   },
   "outputs": [],
   "source": [
    "with open(\"{}_list.txt\".format(CITY), mode=\"w\") as f:\n",
    "    for xiaoqu in xiaoqu_list:\n",
    "        f.write(xiaoqu + \"\\n\")\n",
    "print(\"list write finished.\")"
   ]
  },
  {
   "cell_type": "code",
   "execution_count": 14,
   "metadata": {
    "collapsed": true
   },
   "outputs": [],
   "source": [
    "with open(\"{}_list.txt\".format(CITY), mode=\"r\") as f:\n",
    "    xiaoqu_list = [line[:-1] for line in f.readlines()]"
   ]
  },
  {
   "cell_type": "markdown",
   "metadata": {},
   "source": [
    "# 爬取小区ID列表对应的小区信息"
   ]
  },
  {
   "cell_type": "code",
   "execution_count": null,
   "metadata": {
    "collapsed": false,
    "scrolled": true
   },
   "outputs": [],
   "source": [
    "df_xiaoqu_info = get_xiaoqu_info_from_xiaoqu_list(CITY, xiaoqu_list)"
   ]
  },
  {
   "cell_type": "code",
   "execution_count": null,
   "metadata": {
    "collapsed": false
   },
   "outputs": [],
   "source": [
    "df_xiaoqu_info.to_csv(\"{}_info.csv\".format(CITY), sep=\",\", encoding=\"utf-8\")\n",
    "print(\"infos write finished.\")"
   ]
  },
  {
   "cell_type": "markdown",
   "metadata": {},
   "source": [
    "# 爬取二手房交易记录"
   ]
  },
  {
   "cell_type": "code",
   "execution_count": null,
   "metadata": {
    "collapsed": false
   },
   "outputs": [
    {
     "name": "stdout",
     "output_type": "stream",
     "text": [
      " \n"
     ]
    }
   ],
   "source": [
    "# 分段爬取，避免失败重新爬，同时ExcelWriter有URL写入最多65530条的限制，根据具体情况设置PART的值\n",
    "PART = 5\n",
    "for i in range(0, PART):\n",
    "    start = int(i * len(xiaoqu_list) / PART)\n",
    "    end = int((i + 1) * len(xiaoqu_list) / PART)\n",
    "    df_transactions = get_transactions_from_xiaoqu_list(CITY, xiaoqu_list[start:end])\n",
    "    writer = pd.ExcelWriter(\"{}_transactions_{}.xlsx\".format(CITY, i+1))\n",
    "    df_transactions.to_excel(writer, \"Data\")\n",
    "    writer.save()\n",
    "#     df_transactions.to_csv(\"{}_transaction_{}.csv\".format(CITY, i+1), sep=\",\", encoding=\"utf-8\")\n",
    "    print(\"\\nfile {} written.\".format(i+1))"
   ]
  },
  {
   "cell_type": "markdown",
   "metadata": {},
   "source": [
    "# 测试区域\n",
    "测试部分函数的运行结果"
   ]
  },
  {
   "cell_type": "code",
   "execution_count": 15,
   "metadata": {
    "collapsed": false
   },
   "outputs": [],
   "source": [
    "http_url = \"http://{}.lianjia.com/chengjiao/c{}/\".format(CITY, 1611047831383)\n",
    "bs_obj = get_bs_obj_from_url(http_url)"
   ]
  },
  {
   "cell_type": "code",
   "execution_count": 15,
   "metadata": {
    "collapsed": false
   },
   "outputs": [
    {
     "data": {
      "text/html": [
       "<div>\n",
       "<table border=\"1\" class=\"dataframe\">\n",
       "  <thead>\n",
       "    <tr style=\"text-align: right;\">\n",
       "      <th></th>\n",
       "      <th>小区ID</th>\n",
       "      <th>URL</th>\n",
       "      <th>小区名称</th>\n",
       "      <th>户型</th>\n",
       "      <th>建筑面积</th>\n",
       "      <th>成交价</th>\n",
       "      <th>挂牌价</th>\n",
       "      <th>单价</th>\n",
       "      <th>成交周期</th>\n",
       "      <th>成交日期</th>\n",
       "      <th>朝向</th>\n",
       "      <th>装修</th>\n",
       "      <th>电梯</th>\n",
       "      <th>楼层</th>\n",
       "      <th>建筑类型</th>\n",
       "    </tr>\n",
       "  </thead>\n",
       "  <tbody>\n",
       "    <tr>\n",
       "      <th>0</th>\n",
       "      <td>1611041878663</td>\n",
       "      <td>http://cd.lianjia.com/chengjiao/106092833207.html</td>\n",
       "      <td>莲桂西路98号</td>\n",
       "      <td>3室1厅</td>\n",
       "      <td>61.15</td>\n",
       "      <td>9256</td>\n",
       "      <td>57</td>\n",
       "      <td>9256</td>\n",
       "      <td>70</td>\n",
       "      <td>2016.12.30</td>\n",
       "      <td>南</td>\n",
       "      <td>其他</td>\n",
       "      <td>无</td>\n",
       "      <td>高楼层(共8层)</td>\n",
       "      <td>2000年建板楼</td>\n",
       "    </tr>\n",
       "    <tr>\n",
       "      <th>0</th>\n",
       "      <td>1611041878663</td>\n",
       "      <td>http://cd.lianjia.com/chengjiao/CDJJ92693713.html</td>\n",
       "      <td>莲桂西路98号</td>\n",
       "      <td>2室1厅</td>\n",
       "      <td>61.15</td>\n",
       "      <td>8766</td>\n",
       "      <td>55</td>\n",
       "      <td>8766</td>\n",
       "      <td>1</td>\n",
       "      <td>2016.09.12</td>\n",
       "      <td>南</td>\n",
       "      <td>其他</td>\n",
       "      <td>无</td>\n",
       "      <td>中楼层(共8层)</td>\n",
       "      <td>2000年建板楼</td>\n",
       "    </tr>\n",
       "    <tr>\n",
       "      <th>0</th>\n",
       "      <td>1611041878663</td>\n",
       "      <td>http://cd.lianjia.com/chengjiao/CDJJ92429714.html</td>\n",
       "      <td>莲桂西路98号</td>\n",
       "      <td>3室1厅</td>\n",
       "      <td>74.89</td>\n",
       "      <td>7678</td>\n",
       "      <td>60</td>\n",
       "      <td>7678</td>\n",
       "      <td>15</td>\n",
       "      <td>2016.07.13</td>\n",
       "      <td>东</td>\n",
       "      <td>其他</td>\n",
       "      <td>无</td>\n",
       "      <td>中楼层(共7层)</td>\n",
       "      <td>2000年建板楼</td>\n",
       "    </tr>\n",
       "    <tr>\n",
       "      <th>0</th>\n",
       "      <td>1611041878663</td>\n",
       "      <td>http://cd.lianjia.com/chengjiao/CDJJ92160934.html</td>\n",
       "      <td>莲桂西路98号</td>\n",
       "      <td>3室2厅</td>\n",
       "      <td>123.05</td>\n",
       "      <td>7965</td>\n",
       "      <td>99</td>\n",
       "      <td>7965</td>\n",
       "      <td>24</td>\n",
       "      <td>2016.06.02</td>\n",
       "      <td>南西</td>\n",
       "      <td>精装</td>\n",
       "      <td>无</td>\n",
       "      <td>中楼层(共7层)</td>\n",
       "      <td>2000年建板楼</td>\n",
       "    </tr>\n",
       "    <tr>\n",
       "      <th>0</th>\n",
       "      <td>1611041878663</td>\n",
       "      <td>http://cd.lianjia.com/chengjiao/CDJJ88857437.html</td>\n",
       "      <td>莲桂西路98号</td>\n",
       "      <td>2室2厅</td>\n",
       "      <td>88.59</td>\n",
       "      <td>8354</td>\n",
       "      <td>78</td>\n",
       "      <td>8354</td>\n",
       "      <td>96</td>\n",
       "      <td>2015.05.03</td>\n",
       "      <td>西北</td>\n",
       "      <td>其他</td>\n",
       "      <td>无</td>\n",
       "      <td>中楼层(共7层)</td>\n",
       "      <td>2000年建板楼</td>\n",
       "    </tr>\n",
       "  </tbody>\n",
       "</table>\n",
       "</div>"
      ],
      "text/plain": [
       "            小区ID                                                URL     小区名称  \\\n",
       "0  1611041878663  http://cd.lianjia.com/chengjiao/106092833207.html  莲桂西路98号   \n",
       "0  1611041878663  http://cd.lianjia.com/chengjiao/CDJJ92693713.html  莲桂西路98号   \n",
       "0  1611041878663  http://cd.lianjia.com/chengjiao/CDJJ92429714.html  莲桂西路98号   \n",
       "0  1611041878663  http://cd.lianjia.com/chengjiao/CDJJ92160934.html  莲桂西路98号   \n",
       "0  1611041878663  http://cd.lianjia.com/chengjiao/CDJJ88857437.html  莲桂西路98号   \n",
       "\n",
       "     户型    建筑面积   成交价 挂牌价    单价 成交周期        成交日期  朝向   装修 电梯        楼层  \\\n",
       "0  3室1厅   61.15  9256  57  9256   70  2016.12.30   南  其他   无  高楼层(共8层)   \n",
       "0  2室1厅   61.15  8766  55  8766    1  2016.09.12   南  其他   无  中楼层(共8层)   \n",
       "0  3室1厅   74.89  7678  60  7678   15  2016.07.13   东  其他   无  中楼层(共7层)   \n",
       "0  3室2厅  123.05  7965  99  7965   24  2016.06.02  南西  精装   无  中楼层(共7层)   \n",
       "0  2室2厅   88.59  8354  78  8354   96  2015.05.03  西北  其他   无  中楼层(共7层)   \n",
       "\n",
       "       建筑类型  \n",
       "0  2000年建板楼  \n",
       "0  2000年建板楼  \n",
       "0  2000年建板楼  \n",
       "0  2000年建板楼  \n",
       "0  2000年建板楼  "
      ]
     },
     "execution_count": 15,
     "metadata": {},
     "output_type": "execute_result"
    }
   ],
   "source": [
    "get_xiaoqu_transactions(city=CITY, xiaoqu_id=1611041878663)"
   ]
  }
 ],
 "metadata": {
  "anaconda-cloud": {},
  "kernelspec": {
   "display_name": "Python [default]",
   "language": "python",
   "name": "python3"
  },
  "language_info": {
   "codemirror_mode": {
    "name": "ipython",
    "version": 3.0
   },
   "file_extension": ".py",
   "mimetype": "text/x-python",
   "name": "python",
   "nbconvert_exporter": "python",
   "pygments_lexer": "ipython3",
   "version": "3.5.2"
  }
 },
 "nbformat": 4,
 "nbformat_minor": 0
}